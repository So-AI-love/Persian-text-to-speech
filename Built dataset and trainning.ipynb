{
  "nbformat": 4,
  "nbformat_minor": 0,
  "metadata": {
    "kernelspec": {
      "display_name": "Python 3",
      "language": "python",
      "name": "python3"
    },
    "language_info": {
      "codemirror_mode": {
        "name": "ipython",
        "version": 3
      },
      "file_extension": ".py",
      "mimetype": "text/x-python",
      "name": "python",
      "nbconvert_exporter": "python",
      "pygments_lexer": "ipython3",
      "version": "3.5.2"
    },
    "colab": {
      "name": "train.ipynb",
      "provenance": []
    }
  },
  "cells": [
    {
      "cell_type": "code",
      "metadata": {
        "id": "Khy9PEyZwa8e",
        "colab_type": "code",
        "colab": {
          "base_uri": "https://localhost:8080/",
          "height": 894
        },
        "outputId": "e617f05e-fe04-43d9-c524-c2b0d56ac255"
      },
      "source": [
        "%cd /content/\n",
        "!git clone https://github.com/So-AI-love/Persian-text-to-speech\n",
        "%cd Persian-text-to-speech\n"
      ],
      "execution_count": 7,
      "outputs": [
        {
          "output_type": "stream",
          "text": [
            "ERROR:root:Internal Python error in the inspect module.\n",
            "Below is the traceback from this internal error.\n",
            "\n"
          ],
          "name": "stderr"
        },
        {
          "output_type": "stream",
          "text": [
            "Traceback (most recent call last):\n",
            "  File \"/usr/local/lib/python3.6/dist-packages/IPython/core/interactiveshell.py\", line 2882, in run_code\n",
            "    exec(code_obj, self.user_global_ns, self.user_ns)\n",
            "  File \"<ipython-input-7-5e5e5f4ab1b0>\", line 1, in <module>\n",
            "    get_ipython().magic('cd /content/')\n",
            "  File \"/usr/local/lib/python3.6/dist-packages/IPython/core/interactiveshell.py\", line 2160, in magic\n",
            "    return self.run_line_magic(magic_name, magic_arg_s)\n",
            "  File \"/usr/local/lib/python3.6/dist-packages/IPython/core/interactiveshell.py\", line 2081, in run_line_magic\n",
            "    result = fn(*args,**kwargs)\n",
            "  File \"<decorator-gen-91>\", line 2, in cd\n",
            "  File \"/usr/local/lib/python3.6/dist-packages/IPython/core/magic.py\", line 188, in <lambda>\n",
            "    call = lambda f, *a, **k: f(*a, **k)\n",
            "  File \"/usr/local/lib/python3.6/dist-packages/IPython/core/magics/osm.py\", line 288, in cd\n",
            "    oldcwd = py3compat.getcwd()\n",
            "FileNotFoundError: [Errno 2] No such file or directory\n",
            "\n",
            "During handling of the above exception, another exception occurred:\n",
            "\n",
            "Traceback (most recent call last):\n",
            "  File \"/usr/local/lib/python3.6/dist-packages/IPython/core/interactiveshell.py\", line 1823, in showtraceback\n",
            "    stb = value._render_traceback_()\n",
            "AttributeError: 'FileNotFoundError' object has no attribute '_render_traceback_'\n",
            "\n",
            "During handling of the above exception, another exception occurred:\n",
            "\n",
            "Traceback (most recent call last):\n",
            "  File \"/usr/local/lib/python3.6/dist-packages/IPython/core/ultratb.py\", line 1132, in get_records\n",
            "    return _fixed_getinnerframes(etb, number_of_lines_of_context, tb_offset)\n",
            "  File \"/usr/local/lib/python3.6/dist-packages/IPython/core/ultratb.py\", line 313, in wrapped\n",
            "    return f(*args, **kwargs)\n",
            "  File \"/usr/local/lib/python3.6/dist-packages/IPython/core/ultratb.py\", line 358, in _fixed_getinnerframes\n",
            "    records = fix_frame_records_filenames(inspect.getinnerframes(etb, context))\n",
            "  File \"/usr/lib/python3.6/inspect.py\", line 1490, in getinnerframes\n",
            "    frameinfo = (tb.tb_frame,) + getframeinfo(tb, context)\n",
            "  File \"/usr/lib/python3.6/inspect.py\", line 1448, in getframeinfo\n",
            "    filename = getsourcefile(frame) or getfile(frame)\n",
            "  File \"/usr/lib/python3.6/inspect.py\", line 696, in getsourcefile\n",
            "    if getattr(getmodule(object, filename), '__loader__', None) is not None:\n",
            "  File \"/usr/lib/python3.6/inspect.py\", line 725, in getmodule\n",
            "    file = getabsfile(object, _filename)\n",
            "  File \"/usr/lib/python3.6/inspect.py\", line 709, in getabsfile\n",
            "    return os.path.normcase(os.path.abspath(_filename))\n",
            "  File \"/usr/lib/python3.6/posixpath.py\", line 383, in abspath\n",
            "    cwd = os.getcwd()\n",
            "FileNotFoundError: [Errno 2] No such file or directory\n"
          ],
          "name": "stdout"
        },
        {
          "output_type": "error",
          "ename": "FileNotFoundError",
          "evalue": "ignored",
          "traceback": [
            "\u001b[0;31m---------------------------------------------------------------------------\u001b[0m"
          ]
        }
      ]
    },
    {
      "cell_type": "code",
      "metadata": {
        "id": "GAyn53Kew2Kg",
        "colab_type": "code",
        "colab": {}
      },
      "source": [
        "# !rm -rf  /content/Persian-text-to-speech"
      ],
      "execution_count": 6,
      "outputs": []
    },
    {
      "cell_type": "markdown",
      "metadata": {
        "id": "B5uZ-toyn3s3",
        "colab_type": "text"
      },
      "source": [
        "# Youtube Audio Scraing for building the dataset:\n",
        "Install youtube-dl python mudule and use it like this:\n",
        "\n",
        "\n",
        "\n",
        "```\n",
        "! youtube-dl --extract-audio --audio-format wav  https://www.youtube.com/watch?v=kenujZ7WkUM\n",
        "```\n",
        "\n"
      ]
    },
    {
      "cell_type": "code",
      "metadata": {
        "id": "I7xmVeRBoUuV",
        "colab_type": "code",
        "colab": {
          "base_uri": "https://localhost:8080/",
          "height": 224
        },
        "outputId": "7d422b2c-6f90-42aa-ca6a-61b4731b3966"
      },
      "source": [
        "! pip install youtube-dl \n",
        "# ! youtube-dl --extract-audio --audio-format wav  https://www.youtube.com/watch?v=kenujZ7WkUM"
      ],
      "execution_count": 2,
      "outputs": [
        {
          "output_type": "stream",
          "text": [
            "Collecting youtube-dl\n",
            "\u001b[?25l  Downloading https://files.pythonhosted.org/packages/11/0e/ece03f76aeb5d705e2698f08deed3a5bb3ccaa9c65b1a89c4f4e11b69ffe/youtube_dl-2020.9.14-py2.py3-none-any.whl (1.8MB)\n",
            "\u001b[K     |████████████████████████████████| 1.8MB 2.9MB/s \n",
            "\u001b[?25hInstalling collected packages: youtube-dl\n",
            "Successfully installed youtube-dl-2020.9.14\n",
            "[youtube] kenujZ7WkUM: Downloading webpage\n",
            "[download] Destination: Asw masiibadan Ila Dhageysta idinka yaabi doona (my nr +46761543605) (30_06_2020)-kenujZ7WkUM.m4a\n",
            "\u001b[K[download] 100% of 105.12MiB in 00:03\n",
            "[ffmpeg] Correcting container in \"Asw masiibadan Ila Dhageysta idinka yaabi doona (my nr +46761543605) (30_06_2020)-kenujZ7WkUM.m4a\"\n",
            "\n",
            "ERROR: Interrupted by user\n"
          ],
          "name": "stdout"
        }
      ]
    },
    {
      "cell_type": "code",
      "metadata": {
        "id": "cVnPmiRZqhZ2",
        "colab_type": "code",
        "colab": {
          "base_uri": "https://localhost:8080/",
          "height": 731
        },
        "outputId": "b6022d84-6263-423a-a6c6-e3d804ac58f7"
      },
      "source": [
        "!youtube-dl --download-archive archive.txt \"https://www.youtube.com/user/YouTube/playlists?app=desktop\""
      ],
      "execution_count": 3,
      "outputs": [
        {
          "output_type": "stream",
          "text": [
            "[youtube:playlists] YouTube: Downloading webpage\n",
            "[download] Downloading playlist: YouTube\n",
            "[youtube:playlists] playlist YouTube: Downloading 20 videos\n",
            "[download] Downloading video 1 of 20\n",
            "[youtube:playlist] PLbpi6ZahtOH6T-6wzWaw5e-zAkYSzSvpN: Downloading webpage\n",
            "[download] Downloading playlist: The History of The March On Washington\n",
            "[youtube:playlist] playlist The History of The March On Washington: Downloading 8 videos\n",
            "[download] Downloading video 1 of 8\n",
            "[youtube] iuBYhKnisJ4: Downloading webpage\n",
            "\u001b[0;33mWARNING:\u001b[0m Requested formats are incompatible for merge and will be merged into mkv.\n",
            "[download] Destination: The March On Washington - How The Movement Began _ MLK _ TIME-iuBYhKnisJ4.f136.mp4\n",
            "\u001b[K[download] 100% of 37.26MiB in 00:00\n",
            "[download] Destination: The March On Washington - How The Movement Began _ MLK _ TIME-iuBYhKnisJ4.f251.webm\n",
            "\u001b[K[download] 100% of 5.68MiB in 00:00\n",
            "[ffmpeg] Merging formats into \"The March On Washington - How The Movement Began _ MLK _ TIME-iuBYhKnisJ4.mkv\"\n",
            "Deleting original file The March On Washington - How The Movement Began _ MLK _ TIME-iuBYhKnisJ4.f136.mp4 (pass -k to keep)\n",
            "Deleting original file The March On Washington - How The Movement Began _ MLK _ TIME-iuBYhKnisJ4.f251.webm (pass -k to keep)\n",
            "[download] Downloading video 2 of 8\n",
            "[youtube] qjL1E3R9dF4: Downloading webpage\n",
            "\u001b[0;33mWARNING:\u001b[0m Requested formats are incompatible for merge and will be merged into mkv.\n",
            "[download] Destination: Bet You Didn't Know - March on Washington _ History-qjL1E3R9dF4.f134.mp4\n",
            "\u001b[K[download] 100% of 7.54MiB in 00:00\n",
            "[download] Destination: Bet You Didn't Know - March on Washington _ History-qjL1E3R9dF4.f251.webm\n",
            "\u001b[K[download] 100% of 2.54MiB in 00:00\n",
            "[ffmpeg] Merging formats into \"Bet You Didn't Know - March on Washington _ History-qjL1E3R9dF4.mkv\"\n",
            "Deleting original file Bet You Didn't Know - March on Washington _ History-qjL1E3R9dF4.f134.mp4 (pass -k to keep)\n",
            "Deleting original file Bet You Didn't Know - March on Washington _ History-qjL1E3R9dF4.f251.webm (pass -k to keep)\n",
            "[download] Downloading video 3 of 8\n",
            "[youtube] Z_NwZj-sDn0: Downloading webpage\n",
            "\u001b[0;33mWARNING:\u001b[0m Requested formats are incompatible for merge and will be merged into mkv.\n",
            "[download] Destination: Remembering the March on Washington-Z_NwZj-sDn0.f136.mp4\n",
            "\u001b[K[download] 100% of 89.92MiB in 00:02\n",
            "[download] Destination: Remembering the March on Washington-Z_NwZj-sDn0.f251.webm\n",
            "\u001b[K[download] 100% of 6.31MiB in 00:00\n",
            "[ffmpeg] Merging formats into \"Remembering the March on Washington-Z_NwZj-sDn0.mkv\"\n",
            "Deleting original file Remembering the March on Washington-Z_NwZj-sDn0.f136.mp4 (pass -k to keep)\n",
            "Deleting original file Remembering the March on Washington-Z_NwZj-sDn0.f251.webm (pass -k to keep)\n",
            "[download] Downloading video 4 of 8\n",
            "[youtube] DQYzHIIQ1O4: Downloading webpage\n",
            "[download] Destination: The March (1963, restored)-DQYzHIIQ1O4.f137.mp4\n",
            "\u001b[K[download]  17.0% of 400.48MiB at 35.87MiB/s ETA 00:09\n",
            "ERROR: Interrupted by user\n"
          ],
          "name": "stdout"
        }
      ]
    },
    {
      "cell_type": "markdown",
      "metadata": {
        "id": "8AxL6SrTs8XC",
        "colab_type": "text"
      },
      "source": [
        "#Scrap huge data form :\n",
        "\n",
        "based of this post:\n",
        "https://askubuntu.com/questions/1027209/youtube-dl-search-keyword-and-only-download-urls\n"
      ]
    },
    {
      "cell_type": "code",
      "metadata": {
        "id": "tTIkzndeurWu",
        "colab_type": "code",
        "colab": {
          "base_uri": "https://localhost:8080/",
          "height": 68
        },
        "outputId": "fa1d3a62-06d0-4a05-8553-8d033fcdf50b"
      },
      "source": [
        "%cd /content\n",
        "!mkdir Database\n",
        "%cd Database"
      ],
      "execution_count": 16,
      "outputs": [
        {
          "output_type": "stream",
          "text": [
            "/content\n",
            "mkdir: cannot create directory ‘Database’: File exists\n",
            "/content/Database\n"
          ],
          "name": "stdout"
        }
      ]
    },
    {
      "cell_type": "code",
      "metadata": {
        "id": "ur3dE6VEr_bM",
        "colab_type": "code",
        "colab": {
          "base_uri": "https://localhost:8080/",
          "height": 357
        },
        "outputId": "6bc18626-4aec-463b-b8e4-90aac72b5d84"
      },
      "source": [
        "!youtube-dl \"ytsearch10:ابی\" --get-id  --write-info-json --write-annotation --write-thumbnail --write-sub --skip-download"
      ],
      "execution_count": 17,
      "outputs": [
        {
          "output_type": "stream",
          "text": [
            "\u001b[0;33mWARNING:\u001b[0m video doesn't have subtitles\n",
            "eP0GIVDOaEw\n",
            "\u001b[0;33mWARNING:\u001b[0m video doesn't have subtitles\n",
            "pbFnQ0Z5kRk\n",
            "\u001b[0;33mWARNING:\u001b[0m video doesn't have subtitles\n",
            "KJ-d6ZxMCew\n",
            "\u001b[0;33mWARNING:\u001b[0m video doesn't have subtitles\n",
            "fCEoSlj07mg\n",
            "\u001b[0;33mWARNING:\u001b[0m video doesn't have subtitles\n",
            "DOIY-w6jB3M\n",
            "\u001b[0;33mWARNING:\u001b[0m video doesn't have subtitles\n",
            "AMdzzoFc-4E\n",
            "\u001b[0;33mWARNING:\u001b[0m video doesn't have subtitles\n",
            "BXtQbmPLkkQ\n",
            "\u001b[0;33mWARNING:\u001b[0m video doesn't have subtitles\n",
            "uSV9hkcOcgA\n",
            "\u001b[0;33mWARNING:\u001b[0m video doesn't have subtitles\n",
            "74RuGJWIsYo\n",
            "\u001b[0;33mWARNING:\u001b[0m video doesn't have subtitles\n",
            "-pFD8ic4Lu4\n"
          ],
          "name": "stdout"
        }
      ]
    },
    {
      "cell_type": "code",
      "metadata": {
        "id": "HcGYyCz9txk8",
        "colab_type": "code",
        "colab": {
          "base_uri": "https://localhost:8080/",
          "height": 1000
        },
        "outputId": "a8543e99-2497-4426-dcbe-0bb65a82d1f2"
      },
      "source": [
        "! youtube-dl --extract-audio --audio-format wav -o '%(title)s.%(ext)s' --restrict-filenames  \"ytsearch10:ابی\" \n"
      ],
      "execution_count": 20,
      "outputs": [
        {
          "output_type": "stream",
          "text": [
            "[youtube:search] query \"ابی\": Downloading page 1\n",
            "[download] Downloading playlist: ابی\n",
            "[youtube:search] playlist ابی: Collected 10 video ids (downloading 10 of them)\n",
            "[download] Downloading video 1 of 10\n",
            "[youtube] eP0GIVDOaEw: Downloading webpage\n",
            "[download] Destination: Ebi_Golchin.webm\n",
            "\u001b[K[download] 100% of 78.20MiB in 00:02\n",
            "[ffmpeg] Destination: Ebi_Golchin.wav\n",
            "Deleting original file Ebi_Golchin.webm (pass -k to keep)\n",
            "[download] Downloading video 2 of 10\n",
            "[youtube] pbFnQ0Z5kRk: Downloading webpage\n",
            "[download] Destination: Ebi_Sedam_kardi_-.m4a\n",
            "\u001b[K[download] 100% of 4.04MiB in 00:00\n",
            "[ffmpeg] Correcting container in \"Ebi_Sedam_kardi_-.m4a\"\n",
            "[ffmpeg] Destination: Ebi_Sedam_kardi_-.wav\n",
            "Deleting original file Ebi_Sedam_kardi_-.m4a (pass -k to keep)\n",
            "[download] Downloading video 3 of 10\n",
            "[youtube] KJ-d6ZxMCew: Downloading webpage\n",
            "[download] Destination: Ebi_Shab_zadeh_-.webm\n",
            "\u001b[K[download] 100% of 4.74MiB in 00:00\n",
            "[ffmpeg] Destination: Ebi_Shab_zadeh_-.wav\n",
            "Deleting original file Ebi_Shab_zadeh_-.webm (pass -k to keep)\n",
            "[download] Downloading video 4 of 10\n",
            "[youtube] fCEoSlj07mg: Downloading webpage\n",
            "[download] Destination: Red_vs._Blue_-_ZERO_-_Official_Trailer.webm\n",
            "\u001b[K[download] 100% of 1.82MiB in 00:00\n",
            "[ffmpeg] Destination: Red_vs._Blue_-_ZERO_-_Official_Trailer.wav\n",
            "Deleting original file Red_vs._Blue_-_ZERO_-_Official_Trailer.webm (pass -k to keep)\n",
            "[download] Downloading video 5 of 10\n",
            "[youtube] DOIY-w6jB3M: Downloading webpage\n",
            "[download] Destination: Blue_Vegeta_is_S_Tier_POST_PATCH.m4a\n",
            "\u001b[K[download] 100% of 21.27MiB in 00:00\n",
            "[ffmpeg] Correcting container in \"Blue_Vegeta_is_S_Tier_POST_PATCH.m4a\"\n",
            "[ffmpeg] Destination: Blue_Vegeta_is_S_Tier_POST_PATCH.wav\n",
            "Deleting original file Blue_Vegeta_is_S_Tier_POST_PATCH.m4a (pass -k to keep)\n",
            "[download] Downloading video 6 of 10\n",
            "[youtube] BXtQbmPLkkQ: Downloading webpage\n",
            "[download] Destination: Best_of_EBI_Radio_Ghadim_Part_1.webm\n",
            "\u001b[K[download] 100% of 12.40MiB in 00:00\n",
            "[ffmpeg] Destination: Best_of_EBI_Radio_Ghadim_Part_1.wav\n",
            "Deleting original file Best_of_EBI_Radio_Ghadim_Part_1.webm (pass -k to keep)\n",
            "[download] Downloading video 7 of 10\n",
            "[youtube] AMdzzoFc-4E: Downloading webpage\n",
            "[download] Destination: 9_16_New_York_Yankees_vs_Toronto_Blue_Jays_Highlights_Home_Run_-_MLB_2020.webm\n",
            "\u001b[K[download] 100% of 8.49MiB in 00:00\n",
            "[ffmpeg] Destination: 9_16_New_York_Yankees_vs_Toronto_Blue_Jays_Highlights_Home_Run_-_MLB_2020.wav\n",
            "Deleting original file 9_16_New_York_Yankees_vs_Toronto_Blue_Jays_Highlights_Home_Run_-_MLB_2020.webm (pass -k to keep)\n",
            "[download] Downloading video 8 of 10\n",
            "[youtube] uSV9hkcOcgA: Downloading webpage\n",
            "[download] Destination: Ebi_-_Derakht_-.webm\n",
            "\u001b[K[download] 100% of 4.88MiB in 00:00\n",
            "[ffmpeg] Destination: Ebi_-_Derakht_-.wav\n",
            "Deleting original file Ebi_-_Derakht_-.webm (pass -k to keep)\n",
            "[download] Downloading video 9 of 10\n",
            "[youtube] 74RuGJWIsYo: Downloading webpage\n",
            "[download] Destination: How_Fast_Can_you_Beat_Pokemon_Red_Blue_with_Just_a_Gyarados.webm\n",
            "\u001b[K[download] 100% of 35.47MiB in 00:00\n",
            "[ffmpeg] Destination: How_Fast_Can_you_Beat_Pokemon_Red_Blue_with_Just_a_Gyarados.wav\n",
            "Deleting original file How_Fast_Can_you_Beat_Pokemon_Red_Blue_with_Just_a_Gyarados.webm (pass -k to keep)\n",
            "[download] Downloading video 10 of 10\n",
            "[youtube] -pFD8ic4Lu4: Downloading webpage\n",
            "[download] Destination: Whitest_Kids_U_Know_-_Blue_Hair_Timmy.m4a\n",
            "\u001b[K[download] 100% of 1.16MiB in 00:00\n",
            "[ffmpeg] Correcting container in \"Whitest_Kids_U_Know_-_Blue_Hair_Timmy.m4a\"\n",
            "[ffmpeg] Destination: Whitest_Kids_U_Know_-_Blue_Hair_Timmy.wav\n",
            "Deleting original file Whitest_Kids_U_Know_-_Blue_Hair_Timmy.m4a (pass -k to keep)\n",
            "[download] Finished downloading playlist: ابی\n"
          ],
          "name": "stdout"
        }
      ]
    },
    {
      "cell_type": "markdown",
      "metadata": {
        "id": "Euo7IqsDn8Ui",
        "colab_type": "text"
      },
      "source": [
        "#Alternative Scraping metode by Selenium:\n",
        "```\n",
        "# install chromium, its driver, and selenium\n",
        "!apt update\n",
        "!apt install chromium-chromedriver\n",
        "!pip install selenium\n",
        "# set options to be headless, ..\n",
        "from selenium import webdriver\n",
        "options = webdriver.ChromeOptions()\n",
        "options.add_argument('--headless')\n",
        "options.add_argument('--no-sandbox')\n",
        "options.add_argument('--disable-dev-shm-usage')\n",
        "# open it, go to a website, and get results\n",
        "wd = webdriver.Chrome('chromedriver',options=options)\n",
        "wd.get(\"https://www.website.com\")\n",
        "print(wd.page_source)  # re\n",
        "```"
      ]
    },
    {
      "cell_type": "code",
      "metadata": {
        "id": "wURc7RfpppID",
        "colab_type": "code",
        "colab": {}
      },
      "source": [
        "!apt update\n",
        "!apt install chromium-chromedriver\n",
        "!pip install selenium\n",
        "# set options to be headless, ..\n",
        "from selenium import webdriver\n",
        "options = webdriver.ChromeOptions()\n",
        "options.add_argument('--headless')\n",
        "options.add_argument('--no-sandbox')\n",
        "options.add_argument('--disable-dev-shm-usage')\n",
        "# open it, go to a website, and get results\n",
        "wd = webdriver.Chrome('chromedriver',options=options)\n",
        "wd.get(\"https://www.website.com\")\n",
        "print(wd.page_source)  # re"
      ],
      "execution_count": null,
      "outputs": []
    },
    {
      "cell_type": "code",
      "metadata": {
        "id": "4gH3kG2vn0HF",
        "colab_type": "code",
        "colab": {}
      },
      "source": [
        "import sys\n",
        "from tqdm import tqdm\n",
        "import tensorflow as tf\n",
        "sys.path.append('tools')\n",
        "%load_ext autoreload\n",
        "%autoreload 2\n",
        "from model_graph_test import model"
      ],
      "execution_count": null,
      "outputs": []
    },
    {
      "cell_type": "code",
      "metadata": {
        "id": "EdU9F37vn0HL",
        "colab_type": "code",
        "colab": {}
      },
      "source": [
        "#use training_text2sp for training text to mel\n",
        "#use training_superresolution for training super resolution network\n",
        "gr=model('...DATA PATH...','training_text2sp')"
      ],
      "execution_count": null,
      "outputs": []
    },
    {
      "cell_type": "code",
      "metadata": {
        "id": "KChSPDmGn0HP",
        "colab_type": "code",
        "colab": {}
      },
      "source": [
        "#The supervisor takes care of session initialization and all that jazz     \n",
        "# Use tqdm for progress bar\n",
        "#https://github.com/petewarden/tensorflow_makefile/blob/master/tensorflow/g3doc/api_docs/python/functions_and_classes/tf.train.Supervisor.md\n",
        "logdir = 'logs/text-to-spec'\n",
        "#config = tf.ConfigProto(allow_soft_placement = True)\n",
        "sv = tf.train.Supervisor(logdir=logdir, save_model_secs=0, global_step=gr.global_step)\n",
        "with sv.managed_session() as sess:\n",
        "    while True:\n",
        "            for _ in tqdm(range(gr.num_batch), total=gr.num_batch, ncols=70, leave=False, unit='b'):\n",
        "                global_s,_=sess.run([gr.global_step,gr.train_operation])\n",
        "                #print(global_s)\n",
        "                if global_s % 1000 == 0:\n",
        "                    sv.saver.save(sess, logdir + '/model_gs_{}'.format(str(global_s // 1000).zfill(3) + \"k\"))"
      ],
      "execution_count": null,
      "outputs": []
    }
  ]
}