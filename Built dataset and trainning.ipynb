{
  "nbformat": 4,
  "nbformat_minor": 0,
  "metadata": {
    "kernelspec": {
      "display_name": "Python 3",
      "language": "python",
      "name": "python3"
    },
    "language_info": {
      "codemirror_mode": {
        "name": "ipython",
        "version": 3
      },
      "file_extension": ".py",
      "mimetype": "text/x-python",
      "name": "python",
      "nbconvert_exporter": "python",
      "pygments_lexer": "ipython3",
      "version": "3.5.2"
    },
    "colab": {
      "name": "train.ipynb",
      "provenance": []
    }
  },
  "cells": [
    {
      "cell_type": "code",
      "metadata": {
        "id": "Khy9PEyZwa8e",
        "colab_type": "code",
        "colab": {
          "base_uri": "https://localhost:8080/",
          "height": 170
        },
        "outputId": "f01db5f2-12dd-472b-9bab-6a30b6ef9155"
      },
      "source": [
        "%cd /content/\n",
        "!git clone https://github.com/So-AI-love/Persian-text-to-speech\n",
        "%cd Persian-text-to-speech\n"
      ],
      "execution_count": 1,
      "outputs": [
        {
          "output_type": "stream",
          "text": [
            "/content\n",
            "Cloning into 'Persian-text-to-speech'...\n",
            "remote: Enumerating objects: 6, done.\u001b[K\n",
            "remote: Counting objects: 100% (6/6), done.\u001b[K\n",
            "remote: Compressing objects: 100% (6/6), done.\u001b[K\n",
            "remote: Total 172 (delta 2), reused 0 (delta 0), pack-reused 166\u001b[K\n",
            "Receiving objects: 100% (172/172), 3.53 MiB | 3.18 MiB/s, done.\n",
            "Resolving deltas: 100% (55/55), done.\n",
            "/content/Persian-text-to-speech\n"
          ],
          "name": "stdout"
        }
      ]
    },
    {
      "cell_type": "code",
      "metadata": {
        "id": "GAyn53Kew2Kg",
        "colab_type": "code",
        "colab": {}
      },
      "source": [
        "# !rm -rf  /content/Persian-text-to-speech"
      ],
      "execution_count": 6,
      "outputs": []
    },
    {
      "cell_type": "markdown",
      "metadata": {
        "id": "B5uZ-toyn3s3",
        "colab_type": "text"
      },
      "source": [
        "# Youtube Audio Scraing for building the dataset:\n",
        "Install youtube-dl python mudule and use it like this:\n",
        "\n",
        "\n",
        "\n",
        "```\n",
        "! youtube-dl --extract-audio --audio-format wav  https://www.youtube.com/watch?v=kenujZ7WkUM\n",
        "```\n",
        "\n"
      ]
    },
    {
      "cell_type": "code",
      "metadata": {
        "id": "I7xmVeRBoUuV",
        "colab_type": "code",
        "colab": {
          "base_uri": "https://localhost:8080/",
          "height": 122
        },
        "outputId": "7f5ab2b2-a1ce-418c-fd20-98d5cebb809d"
      },
      "source": [
        "! pip install youtube-dl \n",
        "# ! youtube-dl --extract-audio --audio-format wav  https://www.youtube.com/watch?v=kenujZ7WkUM"
      ],
      "execution_count": 2,
      "outputs": [
        {
          "output_type": "stream",
          "text": [
            "Collecting youtube-dl\n",
            "\u001b[?25l  Downloading https://files.pythonhosted.org/packages/11/0e/ece03f76aeb5d705e2698f08deed3a5bb3ccaa9c65b1a89c4f4e11b69ffe/youtube_dl-2020.9.14-py2.py3-none-any.whl (1.8MB)\n",
            "\u001b[K     |████████████████████████████████| 1.8MB 2.6MB/s \n",
            "\u001b[?25hInstalling collected packages: youtube-dl\n",
            "Successfully installed youtube-dl-2020.9.14\n"
          ],
          "name": "stdout"
        }
      ]
    },
    {
      "cell_type": "code",
      "metadata": {
        "id": "cVnPmiRZqhZ2",
        "colab_type": "code",
        "colab": {}
      },
      "source": [
        "# !youtube-dl --download-archive archive.txt \"https://www.youtube.com/user/YouTube/playlists?app=desktop\""
      ],
      "execution_count": null,
      "outputs": []
    },
    {
      "cell_type": "markdown",
      "metadata": {
        "id": "8AxL6SrTs8XC",
        "colab_type": "text"
      },
      "source": [
        "#Scrap huge data form :\n",
        "\n",
        "based of this post:\n",
        "https://askubuntu.com/questions/1027209/youtube-dl-search-keyword-and-only-download-urls\n"
      ]
    },
    {
      "cell_type": "code",
      "metadata": {
        "id": "tTIkzndeurWu",
        "colab_type": "code",
        "colab": {
          "base_uri": "https://localhost:8080/",
          "height": 34
        },
        "outputId": "00c18704-222a-4281-e4ab-0016af44db19"
      },
      "source": [
        "# %cd /content\n",
        "!mkdir Database\n",
        "%cd Database"
      ],
      "execution_count": 3,
      "outputs": [
        {
          "output_type": "stream",
          "text": [
            "/content/Persian-text-to-speech/Database\n"
          ],
          "name": "stdout"
        }
      ]
    },
    {
      "cell_type": "code",
      "metadata": {
        "id": "ur3dE6VEr_bM",
        "colab_type": "code",
        "colab": {}
      },
      "source": [
        "!youtube-dl \"ytsearch10:ابی\" --get-id  --write-info-json --write-annotation --write-thumbnail --write-sub --skip-download"
      ],
      "execution_count": null,
      "outputs": []
    },
    {
      "cell_type": "code",
      "metadata": {
        "id": "HcGYyCz9txk8",
        "colab_type": "code",
        "colab": {
          "base_uri": "https://localhost:8080/",
          "height": 68
        },
        "outputId": "d5ab4f4c-45f4-407f-e14d-b7616b00e875"
      },
      "source": [
        "! youtube-dl --extract-audio --audio-format wav -o '%(title)s.%(ext)s' --restrict-filenames  \"ytsearch500:  خواننده ابی\" \n"
      ],
      "execution_count": 6,
      "outputs": [
        {
          "output_type": "stream",
          "text": [
            "\u001b[K[download] 100% of 11.24MiB in 00:25\n",
            "[ffmpeg] Destination: _.wav\n",
            "\n"
          ],
          "name": "stdout"
        }
      ]
    },
    {
      "cell_type": "code",
      "metadata": {
        "id": "NKsXrZDNyGZt",
        "colab_type": "code",
        "colab": {
          "base_uri": "https://localhost:8080/",
          "height": 63
        },
        "outputId": "898676d3-1b37-4549-8b1e-662aab4fce41"
      },
      "source": [
        "%cd ..\n",
        "!git add .\n",
        "!git commit -am \" wav Database added\"\n",
        "!git push -u origin master"
      ],
      "execution_count": null,
      "outputs": [
        {
          "output_type": "stream",
          "text": [
            "/content/Persian-text-to-speech\n"
          ],
          "name": "stdout"
        }
      ]
    },
    {
      "cell_type": "markdown",
      "metadata": {
        "id": "Euo7IqsDn8Ui",
        "colab_type": "text"
      },
      "source": [
        "#Alternative Scraping metode by Selenium:\n",
        "```\n",
        "# install chromium, its driver, and selenium\n",
        "!apt update\n",
        "!apt install chromium-chromedriver\n",
        "!pip install selenium\n",
        "# set options to be headless, ..\n",
        "from selenium import webdriver\n",
        "options = webdriver.ChromeOptions()\n",
        "options.add_argument('--headless')\n",
        "options.add_argument('--no-sandbox')\n",
        "options.add_argument('--disable-dev-shm-usage')\n",
        "# open it, go to a website, and get results\n",
        "wd = webdriver.Chrome('chromedriver',options=options)\n",
        "wd.get(\"https://www.website.com\")\n",
        "print(wd.page_source)  # re\n",
        "```"
      ]
    },
    {
      "cell_type": "code",
      "metadata": {
        "id": "wURc7RfpppID",
        "colab_type": "code",
        "colab": {}
      },
      "source": [
        "!apt update\n",
        "!apt install chromium-chromedriver\n",
        "!pip install selenium\n",
        "# set options to be headless, ..\n",
        "from selenium import webdriver\n",
        "options = webdriver.ChromeOptions()\n",
        "options.add_argument('--headless')\n",
        "options.add_argument('--no-sandbox')\n",
        "options.add_argument('--disable-dev-shm-usage')\n",
        "# open it, go to a website, and get results\n",
        "wd = webdriver.Chrome('chromedriver',options=options)\n",
        "wd.get(\"https://www.website.com\")\n",
        "print(wd.page_source)  # re"
      ],
      "execution_count": null,
      "outputs": []
    },
    {
      "cell_type": "code",
      "metadata": {
        "id": "4gH3kG2vn0HF",
        "colab_type": "code",
        "colab": {}
      },
      "source": [
        "import sys\n",
        "from tqdm import tqdm\n",
        "import tensorflow as tf\n",
        "sys.path.append('tools')\n",
        "%load_ext autoreload\n",
        "%autoreload 2\n",
        "from model_graph_test import model"
      ],
      "execution_count": null,
      "outputs": []
    },
    {
      "cell_type": "code",
      "metadata": {
        "id": "EdU9F37vn0HL",
        "colab_type": "code",
        "colab": {}
      },
      "source": [
        "#use training_text2sp for training text to mel\n",
        "#use training_superresolution for training super resolution network\n",
        "gr=model('...DATA PATH...','training_text2sp')"
      ],
      "execution_count": null,
      "outputs": []
    },
    {
      "cell_type": "code",
      "metadata": {
        "id": "KChSPDmGn0HP",
        "colab_type": "code",
        "colab": {}
      },
      "source": [
        "#The supervisor takes care of session initialization and all that jazz     \n",
        "# Use tqdm for progress bar\n",
        "#https://github.com/petewarden/tensorflow_makefile/blob/master/tensorflow/g3doc/api_docs/python/functions_and_classes/tf.train.Supervisor.md\n",
        "logdir = 'logs/text-to-spec'\n",
        "#config = tf.ConfigProto(allow_soft_placement = True)\n",
        "sv = tf.train.Supervisor(logdir=logdir, save_model_secs=0, global_step=gr.global_step)\n",
        "with sv.managed_session() as sess:\n",
        "    while True:\n",
        "            for _ in tqdm(range(gr.num_batch), total=gr.num_batch, ncols=70, leave=False, unit='b'):\n",
        "                global_s,_=sess.run([gr.global_step,gr.train_operation])\n",
        "                #print(global_s)\n",
        "                if global_s % 1000 == 0:\n",
        "                    sv.saver.save(sess, logdir + '/model_gs_{}'.format(str(global_s // 1000).zfill(3) + \"k\"))"
      ],
      "execution_count": null,
      "outputs": []
    }
  ]
}