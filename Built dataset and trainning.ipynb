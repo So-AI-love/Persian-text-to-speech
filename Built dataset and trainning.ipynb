{
  "nbformat": 4,
  "nbformat_minor": 0,
  "metadata": {
    "kernelspec": {
      "display_name": "Python 3",
      "language": "python",
      "name": "python3"
    },
    "language_info": {
      "codemirror_mode": {
        "name": "ipython",
        "version": 3
      },
      "file_extension": ".py",
      "mimetype": "text/x-python",
      "name": "python",
      "nbconvert_exporter": "python",
      "pygments_lexer": "ipython3",
      "version": "3.5.2"
    },
    "colab": {
      "name": "train.ipynb",
      "provenance": [],
      "toc_visible": true
    }
  },
  "cells": [
    {
      "cell_type": "markdown",
      "metadata": {
        "id": "B5uZ-toyn3s3",
        "colab_type": "text"
      },
      "source": [
        "# Youtube Audio Scraing for building the dataset:\n",
        "Install youtube-dl python mudule and use it like this:\n",
        "\n",
        "\n",
        "\n",
        "```\n",
        "! youtube-dl --extract-audio --audio-format wav  https://www.youtube.com/watch?v=kenujZ7WkUM\n",
        "```\n",
        "\n"
      ]
    },
    {
      "cell_type": "code",
      "metadata": {
        "id": "I7xmVeRBoUuV",
        "colab_type": "code",
        "colab": {
          "base_uri": "https://localhost:8080/",
          "height": 224
        },
        "outputId": "e6f59fcc-b3bf-471c-9785-dbef2769d6f0"
      },
      "source": [
        "! pip install youtube-dl \n",
        "! youtube-dl --extract-audio --audio-format wav  https://www.youtube.com/watch?v=kenujZ7WkUM"
      ],
      "execution_count": 1,
      "outputs": [
        {
          "output_type": "stream",
          "text": [
            "Collecting youtube-dl\n",
            "\u001b[?25l  Downloading https://files.pythonhosted.org/packages/11/0e/ece03f76aeb5d705e2698f08deed3a5bb3ccaa9c65b1a89c4f4e11b69ffe/youtube_dl-2020.9.14-py2.py3-none-any.whl (1.8MB)\n",
            "\u001b[K     |████████████████████████████████| 1.8MB 8.0MB/s \n",
            "\u001b[?25hInstalling collected packages: youtube-dl\n",
            "Successfully installed youtube-dl-2020.9.14\n",
            "[youtube] kenujZ7WkUM: Downloading webpage\n",
            "[download] Destination: Asw masiibadan Ila Dhageysta idinka yaabi doona (my nr +46761543605) (30_06_2020)-kenujZ7WkUM.m4a\n",
            "\u001b[K[download] 100% of 105.12MiB in 00:03\n",
            "[ffmpeg] Correcting container in \"Asw masiibadan Ila Dhageysta idinka yaabi doona (my nr +46761543605) (30_06_2020)-kenujZ7WkUM.m4a\"\n",
            "[ffmpeg] Destination: Asw masiibadan Ila Dhageysta idinka yaabi doona (my nr +46761543605) (30_06_2020)-kenujZ7WkUM.wav\n",
            "Deleting original file Asw masiibadan Ila Dhageysta idinka yaabi doona (my nr +46761543605) (30_06_2020)-kenujZ7WkUM.m4a (pass -k to keep)\n"
          ],
          "name": "stdout"
        }
      ]
    },
    {
      "cell_type": "markdown",
      "metadata": {
        "id": "Euo7IqsDn8Ui",
        "colab_type": "text"
      },
      "source": [
        ""
      ]
    },
    {
      "cell_type": "code",
      "metadata": {
        "id": "4gH3kG2vn0HF",
        "colab_type": "code",
        "colab": {}
      },
      "source": [
        "import sys\n",
        "from tqdm import tqdm\n",
        "import tensorflow as tf\n",
        "sys.path.append('tools')\n",
        "%load_ext autoreload\n",
        "%autoreload 2\n",
        "from model_graph_test import model"
      ],
      "execution_count": null,
      "outputs": []
    },
    {
      "cell_type": "code",
      "metadata": {
        "id": "EdU9F37vn0HL",
        "colab_type": "code",
        "colab": {}
      },
      "source": [
        "#use training_text2sp for training text to mel\n",
        "#use training_superresolution for training super resolution network\n",
        "gr=model('...DATA PATH...','training_text2sp')"
      ],
      "execution_count": null,
      "outputs": []
    },
    {
      "cell_type": "code",
      "metadata": {
        "id": "KChSPDmGn0HP",
        "colab_type": "code",
        "colab": {}
      },
      "source": [
        "#The supervisor takes care of session initialization and all that jazz     \n",
        "# Use tqdm for progress bar\n",
        "#https://github.com/petewarden/tensorflow_makefile/blob/master/tensorflow/g3doc/api_docs/python/functions_and_classes/tf.train.Supervisor.md\n",
        "logdir = 'logs/text-to-spec'\n",
        "#config = tf.ConfigProto(allow_soft_placement = True)\n",
        "sv = tf.train.Supervisor(logdir=logdir, save_model_secs=0, global_step=gr.global_step)\n",
        "with sv.managed_session() as sess:\n",
        "    while True:\n",
        "            for _ in tqdm(range(gr.num_batch), total=gr.num_batch, ncols=70, leave=False, unit='b'):\n",
        "                global_s,_=sess.run([gr.global_step,gr.train_operation])\n",
        "                #print(global_s)\n",
        "                if global_s % 1000 == 0:\n",
        "                    sv.saver.save(sess, logdir + '/model_gs_{}'.format(str(global_s // 1000).zfill(3) + \"k\"))"
      ],
      "execution_count": null,
      "outputs": []
    }
  ]
}