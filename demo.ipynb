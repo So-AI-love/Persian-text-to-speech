{
  "nbformat": 4,
  "nbformat_minor": 0,
  "metadata": {
    "kernelspec": {
      "display_name": "Python 3",
      "language": "python",
      "name": "python3"
    },
    "language_info": {
      "codemirror_mode": {
        "name": "ipython",
        "version": 3
      },
      "file_extension": ".py",
      "mimetype": "text/x-python",
      "name": "python",
      "nbconvert_exporter": "python",
      "pygments_lexer": "ipython3",
      "version": "3.5.2"
    },
    "colab": {
      "name": "demo.ipynb",
      "provenance": [],
      "include_colab_link": true
    }
  },
  "cells": [
    {
      "cell_type": "markdown",
      "metadata": {
        "id": "view-in-github",
        "colab_type": "text"
      },
      "source": [
        "<a href=\"https://colab.research.google.com/github/So-AI-love/Persian-text-to-speech/blob/master/demo.ipynb\" target=\"_parent\"><img src=\"https://colab.research.google.com/assets/colab-badge.svg\" alt=\"Open In Colab\"/></a>"
      ]
    },
    {
      "cell_type": "code",
      "metadata": {
        "colab": {
          "base_uri": "https://localhost:8080/"
        },
        "id": "Rx7DCkp3-rCl",
        "outputId": "c69ac3ec-feb9-41e6-ce93-02ddab72302d"
      },
      "source": [
        "%cd /content\n",
        "!git clone https://github.com/So-AI-love/Persian-text-to-speech\n",
        "%cd Persian-text-to-speech\n",
        "!mkdir logs\n",
        "%cd logs\n",
        "!wget -O /content/Persian-text-to-speech/logs/logs.rar https://www.dropbox.com/s/48wy3kw4e512ax7/logs.rar\n",
        "!apt-get install unrar\n",
        "!unrar e /content/Persian-text-to-speech/logs/logs.rar\n",
        "%cd /content/Persian-text-to-speech"
      ],
      "execution_count": 26,
      "outputs": [
        {
          "output_type": "stream",
          "text": [
            "/content\n",
            "fatal: destination path 'Persian-text-to-speech' already exists and is not an empty directory.\n",
            "/content/Persian-text-to-speech\n",
            "mkdir: cannot create directory ‘logs’: File exists\n",
            "/content/Persian-text-to-speech/logs\n",
            "--2021-01-30 04:35:25--  https://www.dropbox.com/s/48wy3kw4e512ax7/logs.rar\n",
            "Resolving www.dropbox.com (www.dropbox.com)... 162.125.5.18, 2620:100:601d:18::a27d:512\n",
            "Connecting to www.dropbox.com (www.dropbox.com)|162.125.5.18|:443... connected.\n",
            "HTTP request sent, awaiting response... 301 Moved Permanently\n",
            "Location: /s/raw/48wy3kw4e512ax7/logs.rar [following]\n",
            "--2021-01-30 04:35:26--  https://www.dropbox.com/s/raw/48wy3kw4e512ax7/logs.rar\n",
            "Reusing existing connection to www.dropbox.com:443.\n",
            "HTTP request sent, awaiting response... 302 Found\n",
            "Location: https://ucc5a815b1a272a9e15ac9e508fb.dl.dropboxusercontent.com/cd/0/inline/BH8Y-RnBtC6wmGckE-5dXJ6CF1FRgDnav3rhti8NFAMzNQyJfohzIPm6H9xxLaQJUDk67Dff2o6kBHAaGFzEtn4lO9jTCA6MnYFGiWYq1xHnLA/file# [following]\n",
            "--2021-01-30 04:35:26--  https://ucc5a815b1a272a9e15ac9e508fb.dl.dropboxusercontent.com/cd/0/inline/BH8Y-RnBtC6wmGckE-5dXJ6CF1FRgDnav3rhti8NFAMzNQyJfohzIPm6H9xxLaQJUDk67Dff2o6kBHAaGFzEtn4lO9jTCA6MnYFGiWYq1xHnLA/file\n",
            "Resolving ucc5a815b1a272a9e15ac9e508fb.dl.dropboxusercontent.com (ucc5a815b1a272a9e15ac9e508fb.dl.dropboxusercontent.com)... 162.125.5.15, 2620:100:601d:15::a27d:50f\n",
            "Connecting to ucc5a815b1a272a9e15ac9e508fb.dl.dropboxusercontent.com (ucc5a815b1a272a9e15ac9e508fb.dl.dropboxusercontent.com)|162.125.5.15|:443... connected.\n",
            "HTTP request sent, awaiting response... 302 Found\n",
            "Location: /cd/0/inline2/BH_OWvqpbSBHE5I1UzhxRxnAUbKwvn3pYmj2EHDDcfJzFk99HPVU1v606b1eX_TDcp9u0sV5JEjJubqJEMwkIrC_JltZDyNW7_dhzN0gVzHzv1akpry9wVa8Tf3VXy9FSXj3hukEdIQC7fVigF3OfuPAFUMRdREZEAT9kkgaMfho1jBw0sniv8ElgNid3-Cb4JYcRrIjqMg4AoMmkS4ViisVBD-UZU6RPA_OzPsvsNOAL9MMwtDAizyQwACCUEzCa87x1e2EQOiDtwCwFy7Dsf4Ny2Z_XXrIrqMXxI3sT4_c54-L6InIlzm42S0dFbCgcgv5Qu7hl3c26_2Kz1tEZ5y8/file [following]\n",
            "--2021-01-30 04:35:27--  https://ucc5a815b1a272a9e15ac9e508fb.dl.dropboxusercontent.com/cd/0/inline2/BH_OWvqpbSBHE5I1UzhxRxnAUbKwvn3pYmj2EHDDcfJzFk99HPVU1v606b1eX_TDcp9u0sV5JEjJubqJEMwkIrC_JltZDyNW7_dhzN0gVzHzv1akpry9wVa8Tf3VXy9FSXj3hukEdIQC7fVigF3OfuPAFUMRdREZEAT9kkgaMfho1jBw0sniv8ElgNid3-Cb4JYcRrIjqMg4AoMmkS4ViisVBD-UZU6RPA_OzPsvsNOAL9MMwtDAizyQwACCUEzCa87x1e2EQOiDtwCwFy7Dsf4Ny2Z_XXrIrqMXxI3sT4_c54-L6InIlzm42S0dFbCgcgv5Qu7hl3c26_2Kz1tEZ5y8/file\n",
            "Reusing existing connection to ucc5a815b1a272a9e15ac9e508fb.dl.dropboxusercontent.com:443.\n",
            "HTTP request sent, awaiting response... 200 OK\n",
            "Length: 550880921 (525M) [application/rar]\n",
            "Saving to: ‘/content/Persian-text-to-speech/logs/logs.rar’\n",
            "\n",
            "/content/Persian-te 100%[===================>] 525.36M  87.0MB/s    in 6.7s    \n",
            "\n",
            "2021-01-30 04:35:34 (79.0 MB/s) - ‘/content/Persian-text-to-speech/logs/logs.rar’ saved [550880921/550880921]\n",
            "\n",
            "Reading package lists... Done\n",
            "Building dependency tree       \n",
            "Reading state information... Done\n",
            "unrar is already the newest version (1:5.5.8-1).\n",
            "0 upgraded, 0 newly installed, 0 to remove and 13 not upgraded.\n",
            "\n",
            "UNRAR 5.50 freeware      Copyright (c) 1993-2017 Alexander Roshal\n",
            "\n",
            "\n",
            "Extracting from /content/Persian-text-to-speech/logs/logs.rar\n",
            "\n",
            "\n",
            "Would you like to replace the existing file checkpoint\n",
            "   259 bytes, modified on 2021-01-30 02:39\n",
            "with a new one\n",
            "   259 bytes, modified on 2018-07-26 11:56\n",
            "\n",
            "[Y]es, [N]o, [A]ll, n[E]ver, [R]ename, [Q]uit n\n",
            "\n",
            "\n",
            "Would you like to replace the existing file model_gs_141k.data-00000-of-00001\n",
            "305854560 bytes, modified on 2018-07-26 11:56\n",
            "with a new one\n",
            "305854560 bytes, modified on 2018-07-26 11:56\n",
            "\n",
            "[Y]es, [N]o, [A]ll, n[E]ver, [R]ename, [Q]uit no\n",
            "\n",
            "\n",
            "Would you like to replace the existing file model_gs_141k.index\n",
            "  4423 bytes, modified on 2018-07-26 11:56\n",
            "with a new one\n",
            "  4423 bytes, modified on 2018-07-26 11:56\n",
            "\n",
            "[Y]es, [N]o, [A]ll, n[E]ver, [R]ename, [Q]uit n\n",
            "\n",
            "\n",
            "Would you like to replace the existing file model_gs_141k.meta\n",
            "5240457 bytes, modified on 2018-07-26 11:56\n",
            "with a new one\n",
            "5240457 bytes, modified on 2018-07-26 11:56\n",
            "\n",
            "[Y]es, [N]o, [A]ll, n[E]ver, [R]ename, [Q]uit N\n",
            "\n",
            "\n",
            "Would you like to replace the existing file checkpoint\n",
            "   259 bytes, modified on 2021-01-30 02:39\n",
            "with a new one\n",
            "   259 bytes, modified on 2018-07-26 19:16\n",
            "\n",
            "[Y]es, [N]o, [A]ll, n[E]ver, [R]ename, [Q]uit a\n",
            "\n",
            "Extracting  checkpoint                                                   \b\b\b\b 51%\b\b\b\b\b  OK \n",
            "Extracting  model_gs_140k.data-00000-of-00001                            \b\b\b\b 51%\b\b\b\b 52%\b\b\b\b 53%\b\b\b\b 54%\b\b\b\b 55%\b\b\b\b 56%\b\b\b\b 57%\b\b\b\b 58%\b\b\b\b 59%\b\b\b\b 60%\b\b\b\b 61%\b\b\b\b 62%\b\b\b\b 63%\b\b\b\b 64%\b\b\b\b 65%\b\b\b\b 66%\b\b\b\b 67%\b\b\b\b 68%\b\b\b\b 69%\b\b\b\b 70%\b\b\b\b 71%\b\b\b\b 72%\b\b\b\b 73%\b\b\b\b 74%\b\b\b\b 75%\b\b\b\b 76%\b\b\b\b 77%\b\b\b\b 78%\b\b\b\b 79%\b\b\b\b 80%\b\b\b\b 81%\b\b\b\b 82%\b\b\b\b 83%\b\b\b\b 84%\b\b\b\b 85%\b\b\b\b 86%\b\b\b\b 87%\b\b\b\b 88%\b\b\b\b 89%\b\b\b\b 90%\b\b\b\b 91%\b\b\b\b 92%\b\b\b\b 93%\b\b\b\b 94%\b\b\b\b 95%\b\b\b\b 96%\b\b\b\b 97%\b\b\b\b 98%\b\b\b\b 99%\b\b\b\b\b  OK \n",
            "Extracting  model_gs_140k.index                                          \b\b\b\b 99%\b\b\b\b\b  OK \n",
            "Extracting  model_gs_140k.meta                                           \b\b\b\b 99%\b\b\b\b\b  OK \n",
            "All OK\n",
            "/content/Persian-text-to-speech\n"
          ],
          "name": "stdout"
        }
      ]
    },
    {
      "cell_type": "code",
      "metadata": {
        "id": "jdbcMVdZUDgp",
        "colab": {
          "base_uri": "https://localhost:8080/"
        },
        "outputId": "6edcd66f-cb6d-4bd6-fd9c-c4e9ab52cc48"
      },
      "source": [
        "%cd /content/Persian-text-to-speech\n",
        "%tensorflow_version 1.x\n",
        "\n",
        "import sys\n",
        "import os\n",
        "import numpy as np\n",
        "import tensorflow as tf\n",
        "sys.path.append('/content/Persian-text-to-speech/tools')\n",
        "sys.path.append('/content/Persian-text-to-speech/network')\n",
        "%load_ext autoreload\n",
        "%autoreload 2\n",
        "\n",
        "from hp import HP\n",
        "from model_graph import model\n",
        "tf.reset_default_graph()\n",
        "# gr=model('null','demo')"
      ],
      "execution_count": 27,
      "outputs": [
        {
          "output_type": "stream",
          "text": [
            "/content/Persian-text-to-speech\n",
            "The autoreload extension is already loaded. To reload it, use:\n",
            "  %reload_ext autoreload\n"
          ],
          "name": "stdout"
        }
      ]
    },
    {
      "cell_type": "code",
      "metadata": {
        "colab": {
          "base_uri": "https://localhost:8080/"
        },
        "id": "Z0Cb2PgnN0P6",
        "outputId": "60a532d6-bd03-4ca1-9451-11aed9d9c845"
      },
      "source": [
        "!mkdir /content/Persian-text-to-speech/logs/super_resolution\n",
        "!mkdir /content/Persian-text-to-speech/logs/training_text2sp"
      ],
      "execution_count": 28,
      "outputs": [
        {
          "output_type": "stream",
          "text": [
            "mkdir: cannot create directory ‘/content/Persian-text-to-speech/logs/super_resolution’: File exists\n",
            "mkdir: cannot create directory ‘/content/Persian-text-to-speech/logs/training_text2sp’: File exists\n"
          ],
          "name": "stdout"
        }
      ]
    },
    {
      "cell_type": "code",
      "metadata": {
        "id": "VTxV0ddtUDgt",
        "colab": {
          "base_uri": "https://localhost:8080/",
          "height": 340
        },
        "outputId": "562ea27d-3975-4cd5-a197-f0df7b6e191c"
      },
      "source": [
        "gr=model('null','demo')\n",
        "# gr=model('/content/Persian-text-to-speech/logs/training_text2sp','training_text2sp')"
      ],
      "execution_count": 29,
      "outputs": [
        {
          "output_type": "stream",
          "text": [
            "INFO:tensorflow:Restoring parameters from /content/Persian-text-to-speech/logs/model_gs_140k\n"
          ],
          "name": "stdout"
        },
        {
          "output_type": "error",
          "ename": "ValueError",
          "evalue": "ignored",
          "traceback": [
            "\u001b[0;31m---------------------------------------------------------------------------\u001b[0m",
            "\u001b[0;31mValueError\u001b[0m                                Traceback (most recent call last)",
            "\u001b[0;32m<ipython-input-29-53c86dcf744f>\u001b[0m in \u001b[0;36m<module>\u001b[0;34m()\u001b[0m\n\u001b[0;32m----> 1\u001b[0;31m \u001b[0mgr\u001b[0m\u001b[0;34m=\u001b[0m\u001b[0mmodel\u001b[0m\u001b[0;34m(\u001b[0m\u001b[0;34m'null'\u001b[0m\u001b[0;34m,\u001b[0m\u001b[0;34m'demo'\u001b[0m\u001b[0;34m)\u001b[0m\u001b[0;34m\u001b[0m\u001b[0;34m\u001b[0m\u001b[0m\n\u001b[0m\u001b[1;32m      2\u001b[0m \u001b[0;31m# gr=model('/content/Persian-text-to-speech/logs/training_text2sp','training_text2sp')\u001b[0m\u001b[0;34m\u001b[0m\u001b[0;34m\u001b[0m\u001b[0;34m\u001b[0m\u001b[0m\n",
            "\u001b[0;32m/content/Persian-text-to-speech/model_graph.py\u001b[0m in \u001b[0;36m__init__\u001b[0;34m(self, data_path, mode)\u001b[0m\n\u001b[1;32m    145\u001b[0m             \u001b[0mtf\u001b[0m\u001b[0;34m.\u001b[0m\u001b[0mreset_default_graph\u001b[0m\u001b[0;34m(\u001b[0m\u001b[0;34m)\u001b[0m\u001b[0;34m\u001b[0m\u001b[0;34m\u001b[0m\u001b[0m\n\u001b[1;32m    146\u001b[0m             \u001b[0msv2\u001b[0m \u001b[0;34m=\u001b[0m \u001b[0mtf\u001b[0m\u001b[0;34m.\u001b[0m\u001b[0mtrain\u001b[0m\u001b[0;34m.\u001b[0m\u001b[0mSaver\u001b[0m\u001b[0;34m(\u001b[0m\u001b[0mvar_list\u001b[0m\u001b[0;34m=\u001b[0m\u001b[0msuperresolution_vars\u001b[0m\u001b[0;34m)\u001b[0m\u001b[0;34m\u001b[0m\u001b[0;34m\u001b[0m\u001b[0m\n\u001b[0;32m--> 147\u001b[0;31m             \u001b[0msv2\u001b[0m\u001b[0;34m.\u001b[0m\u001b[0mrestore\u001b[0m\u001b[0;34m(\u001b[0m\u001b[0mself\u001b[0m\u001b[0;34m.\u001b[0m\u001b[0msess\u001b[0m\u001b[0;34m,\u001b[0m \u001b[0mtf\u001b[0m\u001b[0;34m.\u001b[0m\u001b[0mtrain\u001b[0m\u001b[0;34m.\u001b[0m\u001b[0mlatest_checkpoint\u001b[0m\u001b[0;34m(\u001b[0m\u001b[0;34m'/content/Persian-text-to-speech/logs/super_resolution'\u001b[0m\u001b[0;34m)\u001b[0m\u001b[0;34m)\u001b[0m\u001b[0;34m\u001b[0m\u001b[0;34m\u001b[0m\u001b[0m\n\u001b[0m\u001b[1;32m    148\u001b[0m             \u001b[0mprint\u001b[0m\u001b[0;34m(\u001b[0m\u001b[0;34m'model loaded :)'\u001b[0m\u001b[0;34m)\u001b[0m\u001b[0;34m\u001b[0m\u001b[0;34m\u001b[0m\u001b[0m\n\u001b[1;32m    149\u001b[0m         \u001b[0mtf\u001b[0m\u001b[0;34m.\u001b[0m\u001b[0msummary\u001b[0m\u001b[0;34m.\u001b[0m\u001b[0mmerge_all\u001b[0m\u001b[0;34m(\u001b[0m\u001b[0;34m)\u001b[0m\u001b[0;34m\u001b[0m\u001b[0;34m\u001b[0m\u001b[0m\n",
            "\u001b[0;32m/tensorflow-1.15.2/python3.6/tensorflow_core/python/training/saver.py\u001b[0m in \u001b[0;36mrestore\u001b[0;34m(self, sess, save_path)\u001b[0m\n\u001b[1;32m   1275\u001b[0m       \u001b[0;32mreturn\u001b[0m\u001b[0;34m\u001b[0m\u001b[0;34m\u001b[0m\u001b[0m\n\u001b[1;32m   1276\u001b[0m     \u001b[0;32mif\u001b[0m \u001b[0msave_path\u001b[0m \u001b[0;32mis\u001b[0m \u001b[0;32mNone\u001b[0m\u001b[0;34m:\u001b[0m\u001b[0;34m\u001b[0m\u001b[0;34m\u001b[0m\u001b[0m\n\u001b[0;32m-> 1277\u001b[0;31m       \u001b[0;32mraise\u001b[0m \u001b[0mValueError\u001b[0m\u001b[0;34m(\u001b[0m\u001b[0;34m\"Can't load save_path when it is None.\"\u001b[0m\u001b[0;34m)\u001b[0m\u001b[0;34m\u001b[0m\u001b[0;34m\u001b[0m\u001b[0m\n\u001b[0m\u001b[1;32m   1278\u001b[0m \u001b[0;34m\u001b[0m\u001b[0m\n\u001b[1;32m   1279\u001b[0m     \u001b[0mcheckpoint_prefix\u001b[0m \u001b[0;34m=\u001b[0m \u001b[0mcompat\u001b[0m\u001b[0;34m.\u001b[0m\u001b[0mas_text\u001b[0m\u001b[0;34m(\u001b[0m\u001b[0msave_path\u001b[0m\u001b[0;34m)\u001b[0m\u001b[0;34m\u001b[0m\u001b[0;34m\u001b[0m\u001b[0m\n",
            "\u001b[0;31mValueError\u001b[0m: Can't load save_path when it is None."
          ]
        }
      ]
    },
    {
      "cell_type": "markdown",
      "metadata": {
        "id": "9bTRfjODUDg2"
      },
      "source": [
        "# Enter Your Text"
      ]
    },
    {
      "cell_type": "code",
      "metadata": {
        "id": "4DQkTM5cPh0m"
      },
      "source": [
        "!rm -rf /content/Persian-text-to-speech/generated_samples/*"
      ],
      "execution_count": null,
      "outputs": []
    },
    {
      "cell_type": "code",
      "metadata": {
        "id": "TK03Za4BUDg4"
      },
      "source": [
        "sentenses=[\"این یک تست می باشد.\"]"
      ],
      "execution_count": null,
      "outputs": []
    },
    {
      "cell_type": "code",
      "metadata": {
        "id": "hIH_VzntUDg_"
      },
      "source": [
        "gr.predict(sentenses)"
      ],
      "execution_count": null,
      "outputs": []
    },
    {
      "cell_type": "code",
      "metadata": {
        "scrolled": true,
        "id": "nmbA5RJOUDhJ"
      },
      "source": [
        "import IPython\n",
        "IPython.display.Audio(\"generated_samples/1.wav\")"
      ],
      "execution_count": null,
      "outputs": []
    },
    {
      "cell_type": "code",
      "metadata": {
        "id": "b1V9VZ57UDhS"
      },
      "source": [
        ""
      ],
      "execution_count": null,
      "outputs": []
    }
  ]
}