{
  "nbformat": 4,
  "nbformat_minor": 0,
  "metadata": {
    "kernelspec": {
      "display_name": "Python 3",
      "language": "python",
      "name": "python3"
    },
    "language_info": {
      "codemirror_mode": {
        "name": "ipython",
        "version": 3
      },
      "file_extension": ".py",
      "mimetype": "text/x-python",
      "name": "python",
      "nbconvert_exporter": "python",
      "pygments_lexer": "ipython3",
      "version": "3.5.2"
    },
    "colab": {
      "name": "demo.ipynb",
      "provenance": [],
      "include_colab_link": true
    }
  },
  "cells": [
    {
      "cell_type": "markdown",
      "metadata": {
        "id": "view-in-github",
        "colab_type": "text"
      },
      "source": [
        "<a href=\"https://colab.research.google.com/github/So-AI-love/Persian-text-to-speech/blob/master/demo.ipynb\" target=\"_parent\"><img src=\"https://colab.research.google.com/assets/colab-badge.svg\" alt=\"Open In Colab\"/></a>"
      ]
    },
    {
      "cell_type": "code",
      "metadata": {
        "colab": {
          "base_uri": "https://localhost:8080/"
        },
        "id": "Rx7DCkp3-rCl",
        "outputId": "c69ac3ec-feb9-41e6-ce93-02ddab72302d"
      },
      "source": [
        "%cd /content\n",
        "!git clone https://github.com/So-AI-love/Persian-text-to-speech\n",
        "%cd Persian-text-to-speech\n",
        "!mkdir logs\n",
        "%cd logs\n",
        "!wget -O /content/Persian-text-to-speech/logs/logs.rar https://www.dropbox.com/s/48wy3kw4e512ax7/logs.rar\n",
        "!apt-get install unrar\n",
        "!unrar e /content/Persian-text-to-speech/logs/logs.rar\n",
        "%cd /content/Persian-text-to-speech"
      ],
      "execution_count": null,
      "outputs": [
        {
          "output_type": "stream",
          "text": [
            "/content\n",
            "fatal: destination path 'Persian-text-to-speech' already exists and is not an empty directory.\n",
            "/content/Persian-text-to-speech\n",
            "mkdir: cannot create directory ‘logs’: File exists\n",
            "/content/Persian-text-to-speech/logs\n",
            "--2021-01-30 04:35:25--  https://www.dropbox.com/s/48wy3kw4e512ax7/logs.rar\n",
            "Resolving www.dropbox.com (www.dropbox.com)... 162.125.5.18, 2620:100:601d:18::a27d:512\n",
            "Connecting to www.dropbox.com (www.dropbox.com)|162.125.5.18|:443... connected.\n",
            "HTTP request sent, awaiting response... 301 Moved Permanently\n",
            "Location: /s/raw/48wy3kw4e512ax7/logs.rar [following]\n",
            "--2021-01-30 04:35:26--  https://www.dropbox.com/s/raw/48wy3kw4e512ax7/logs.rar\n",
            "Reusing existing connection to www.dropbox.com:443.\n",
            "HTTP request sent, awaiting response... 302 Found\n",
            "Location: https://ucc5a815b1a272a9e15ac9e508fb.dl.dropboxusercontent.com/cd/0/inline/BH8Y-RnBtC6wmGckE-5dXJ6CF1FRgDnav3rhti8NFAMzNQyJfohzIPm6H9xxLaQJUDk67Dff2o6kBHAaGFzEtn4lO9jTCA6MnYFGiWYq1xHnLA/file# [following]\n",
            "--2021-01-30 04:35:26--  https://ucc5a815b1a272a9e15ac9e508fb.dl.dropboxusercontent.com/cd/0/inline/BH8Y-RnBtC6wmGckE-5dXJ6CF1FRgDnav3rhti8NFAMzNQyJfohzIPm6H9xxLaQJUDk67Dff2o6kBHAaGFzEtn4lO9jTCA6MnYFGiWYq1xHnLA/file\n",
            "Resolving ucc5a815b1a272a9e15ac9e508fb.dl.dropboxusercontent.com (ucc5a815b1a272a9e15ac9e508fb.dl.dropboxusercontent.com)... 162.125.5.15, 2620:100:601d:15::a27d:50f\n",
            "Connecting to ucc5a815b1a272a9e15ac9e508fb.dl.dropboxusercontent.com (ucc5a815b1a272a9e15ac9e508fb.dl.dropboxusercontent.com)|162.125.5.15|:443... connected.\n",
            "HTTP request sent, awaiting response... 302 Found\n",
            "Location: /cd/0/inline2/BH_OWvqpbSBHE5I1UzhxRxnAUbKwvn3pYmj2EHDDcfJzFk99HPVU1v606b1eX_TDcp9u0sV5JEjJubqJEMwkIrC_JltZDyNW7_dhzN0gVzHzv1akpry9wVa8Tf3VXy9FSXj3hukEdIQC7fVigF3OfuPAFUMRdREZEAT9kkgaMfho1jBw0sniv8ElgNid3-Cb4JYcRrIjqMg4AoMmkS4ViisVBD-UZU6RPA_OzPsvsNOAL9MMwtDAizyQwACCUEzCa87x1e2EQOiDtwCwFy7Dsf4Ny2Z_XXrIrqMXxI3sT4_c54-L6InIlzm42S0dFbCgcgv5Qu7hl3c26_2Kz1tEZ5y8/file [following]\n",
            "--2021-01-30 04:35:27--  https://ucc5a815b1a272a9e15ac9e508fb.dl.dropboxusercontent.com/cd/0/inline2/BH_OWvqpbSBHE5I1UzhxRxnAUbKwvn3pYmj2EHDDcfJzFk99HPVU1v606b1eX_TDcp9u0sV5JEjJubqJEMwkIrC_JltZDyNW7_dhzN0gVzHzv1akpry9wVa8Tf3VXy9FSXj3hukEdIQC7fVigF3OfuPAFUMRdREZEAT9kkgaMfho1jBw0sniv8ElgNid3-Cb4JYcRrIjqMg4AoMmkS4ViisVBD-UZU6RPA_OzPsvsNOAL9MMwtDAizyQwACCUEzCa87x1e2EQOiDtwCwFy7Dsf4Ny2Z_XXrIrqMXxI3sT4_c54-L6InIlzm42S0dFbCgcgv5Qu7hl3c26_2Kz1tEZ5y8/file\n",
            "Reusing existing connection to ucc5a815b1a272a9e15ac9e508fb.dl.dropboxusercontent.com:443.\n",
            "HTTP request sent, awaiting response... 200 OK\n",
            "Length: 550880921 (525M) [application/rar]\n",
            "Saving to: ‘/content/Persian-text-to-speech/logs/logs.rar’\n",
            "\n",
            "/content/Persian-te 100%[===================>] 525.36M  87.0MB/s    in 6.7s    \n",
            "\n",
            "2021-01-30 04:35:34 (79.0 MB/s) - ‘/content/Persian-text-to-speech/logs/logs.rar’ saved [550880921/550880921]\n",
            "\n",
            "Reading package lists... Done\n",
            "Building dependency tree       \n",
            "Reading state information... Done\n",
            "unrar is already the newest version (1:5.5.8-1).\n",
            "0 upgraded, 0 newly installed, 0 to remove and 13 not upgraded.\n",
            "\n",
            "UNRAR 5.50 freeware      Copyright (c) 1993-2017 Alexander Roshal\n",
            "\n",
            "\n",
            "Extracting from /content/Persian-text-to-speech/logs/logs.rar\n",
            "\n",
            "\n",
            "Would you like to replace the existing file checkpoint\n",
            "   259 bytes, modified on 2021-01-30 02:39\n",
            "with a new one\n",
            "   259 bytes, modified on 2018-07-26 11:56\n",
            "\n",
            "[Y]es, [N]o, [A]ll, n[E]ver, [R]ename, [Q]uit "
          ],
          "name": "stdout"
        }
      ]
    },
    {
      "cell_type": "code",
      "metadata": {
        "id": "jdbcMVdZUDgp"
      },
      "source": [
        "%cd /content/Persian-text-to-speech\n",
        "%tensorflow_version 1.x\n",
        "\n",
        "import sys\n",
        "import os\n",
        "import numpy as np\n",
        "import tensorflow as tf\n",
        "sys.path.append('/content/Persian-text-to-speech/tools')\n",
        "sys.path.append('/content/Persian-text-to-speech/network')\n",
        "%load_ext autoreload\n",
        "%autoreload 2\n",
        "\n",
        "from hp import HP\n",
        "from model_graph import model\n",
        "tf.reset_default_graph()\n",
        "# gr=model('null','demo')"
      ],
      "execution_count": null,
      "outputs": []
    },
    {
      "cell_type": "code",
      "metadata": {
        "id": "Z0Cb2PgnN0P6"
      },
      "source": [
        "!mkdir /content/Persian-text-to-speech/logs/super_resolution\n",
        "!mkdir /content/Persian-text-to-speech/logs/training_text2sp"
      ],
      "execution_count": null,
      "outputs": []
    },
    {
      "cell_type": "code",
      "metadata": {
        "id": "VTxV0ddtUDgt"
      },
      "source": [
        "gr=model('null','demo')\n",
        "# gr=model('/content/Persian-text-to-speech/logs/training_text2sp','training_text2sp')"
      ],
      "execution_count": null,
      "outputs": []
    },
    {
      "cell_type": "markdown",
      "metadata": {
        "id": "9bTRfjODUDg2"
      },
      "source": [
        "# Enter Your Text"
      ]
    },
    {
      "cell_type": "code",
      "metadata": {
        "id": "4DQkTM5cPh0m"
      },
      "source": [
        "!rm -rf /content/Persian-text-to-speech/generated_samples/*"
      ],
      "execution_count": null,
      "outputs": []
    },
    {
      "cell_type": "code",
      "metadata": {
        "id": "TK03Za4BUDg4"
      },
      "source": [
        "sentenses=[\"این یک تست می باشد.\"]"
      ],
      "execution_count": null,
      "outputs": []
    },
    {
      "cell_type": "code",
      "metadata": {
        "id": "hIH_VzntUDg_"
      },
      "source": [
        "gr.predict(sentenses)"
      ],
      "execution_count": null,
      "outputs": []
    },
    {
      "cell_type": "code",
      "metadata": {
        "scrolled": true,
        "id": "nmbA5RJOUDhJ"
      },
      "source": [
        "import IPython\n",
        "IPython.display.Audio(\"generated_samples/1.wav\")"
      ],
      "execution_count": null,
      "outputs": []
    },
    {
      "cell_type": "code",
      "metadata": {
        "id": "b1V9VZ57UDhS"
      },
      "source": [
        ""
      ],
      "execution_count": null,
      "outputs": []
    }
  ]
}