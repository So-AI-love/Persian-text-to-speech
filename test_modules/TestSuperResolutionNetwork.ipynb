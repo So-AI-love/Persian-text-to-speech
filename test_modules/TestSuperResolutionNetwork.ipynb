{
  "nbformat": 4,
  "nbformat_minor": 0,
  "metadata": {
    "kernelspec": {
      "display_name": "Python 3",
      "language": "python",
      "name": "python3"
    },
    "language_info": {
      "codemirror_mode": {
        "name": "ipython",
        "version": 3
      },
      "file_extension": ".py",
      "mimetype": "text/x-python",
      "name": "python",
      "nbconvert_exporter": "python",
      "pygments_lexer": "ipython3",
      "version": "3.5.2"
    },
    "colab": {
      "name": "TestSuperResolutionNetwork.ipynb",
      "provenance": [],
      "include_colab_link": true
    }
  },
  "cells": [
    {
      "cell_type": "markdown",
      "metadata": {
        "id": "view-in-github",
        "colab_type": "text"
      },
      "source": [
        "<a href=\"https://colab.research.google.com/github/So-AI-love/Persian-text-to-speech/blob/master/test_modules/TestSuperResolutionNetwork.ipynb\" target=\"_parent\"><img src=\"https://colab.research.google.com/assets/colab-badge.svg\" alt=\"Open In Colab\"/></a>"
      ]
    },
    {
      "cell_type": "code",
      "metadata": {
        "colab": {
          "base_uri": "https://localhost:8080/"
        },
        "id": "caYsUAlILUhD",
        "outputId": "dd8a91e9-253d-4b5f-c43a-cd250dd2c54e"
      },
      "source": [
        "%cd /content\n",
        "!git clone https://github.com/So-AI-love/Persian-text-to-speech\n",
        "%cd Persian-text-to-speech\n",
        "!mkdir logs\n",
        "%cd logs\n",
        "!wget -O /content/Persian-text-to-speech/logs/logs.rar https://www.dropbox.com/s/48wy3kw4e512ax7/logs.rar\n",
        "!apt-get install unrar\n",
        "!unrar e /content/Persian-text-to-speech/logs/logs.rar\n",
        "%cd /content/Persian-text-to-speech"
      ],
      "execution_count": 1,
      "outputs": [
        {
          "output_type": "stream",
          "text": [
            "/content\n",
            "Cloning into 'Persian-text-to-speech'...\n",
            "remote: Enumerating objects: 10, done.\u001b[K\n",
            "remote: Counting objects: 100% (10/10), done.\u001b[K\n",
            "remote: Compressing objects: 100% (10/10), done.\u001b[K\n",
            "remote: Total 355 (delta 2), reused 0 (delta 0), pack-reused 345\u001b[K\n",
            "Receiving objects: 100% (355/355), 3.64 MiB | 2.85 MiB/s, done.\n",
            "Resolving deltas: 100% (161/161), done.\n",
            "/content/Persian-text-to-speech\n",
            "/content/Persian-text-to-speech/logs\n",
            "--2021-01-30 02:44:34--  https://www.dropbox.com/s/48wy3kw4e512ax7/logs.rar\n",
            "Resolving www.dropbox.com (www.dropbox.com)... 162.125.82.18, 2620:100:6032:18::a27d:5212\n",
            "Connecting to www.dropbox.com (www.dropbox.com)|162.125.82.18|:443... connected.\n",
            "HTTP request sent, awaiting response... 301 Moved Permanently\n",
            "Location: /s/raw/48wy3kw4e512ax7/logs.rar [following]\n",
            "--2021-01-30 02:44:34--  https://www.dropbox.com/s/raw/48wy3kw4e512ax7/logs.rar\n",
            "Reusing existing connection to www.dropbox.com:443.\n",
            "HTTP request sent, awaiting response... 302 Found\n",
            "Location: https://uc33505c62f24cf6c923f04d881c.dl.dropboxusercontent.com/cd/0/inline/BH8gOpREEWCUFcFlRNcznxmH0XuYgVGH6CH_jHMi4GWqKyFlMxSSB6jF8plk7QYAvvMTvSP2yhIs-XMGeMKDexZiPJ1u5p-w8kXq4C6YQyoskg/file# [following]\n",
            "--2021-01-30 02:44:35--  https://uc33505c62f24cf6c923f04d881c.dl.dropboxusercontent.com/cd/0/inline/BH8gOpREEWCUFcFlRNcznxmH0XuYgVGH6CH_jHMi4GWqKyFlMxSSB6jF8plk7QYAvvMTvSP2yhIs-XMGeMKDexZiPJ1u5p-w8kXq4C6YQyoskg/file\n",
            "Resolving uc33505c62f24cf6c923f04d881c.dl.dropboxusercontent.com (uc33505c62f24cf6c923f04d881c.dl.dropboxusercontent.com)... 162.125.82.15, 2620:100:6032:15::a27d:520f\n",
            "Connecting to uc33505c62f24cf6c923f04d881c.dl.dropboxusercontent.com (uc33505c62f24cf6c923f04d881c.dl.dropboxusercontent.com)|162.125.82.15|:443... connected.\n",
            "HTTP request sent, awaiting response... 302 Found\n",
            "Location: /cd/0/inline2/BH_pvkWbkrJdkS8ltLnkrUPVcWuGDJR_2r86Y5KHhAuSF-lpp34zf04g1-kt05NZBcReKigC8nd2h8sbprkusGMA65_slXsRbkXeu1dYjJDdBv4s8VeYodRl2fheU6_JEQ2GQ8HafGVFEY631tCBZzMlOgnvnTJvlFh3_XlbKboLdoGtNlV2iclIUiC47LTXIp9dLiDOfkmjBMpvQEiZzv-4jg2CHR00g5lnn3UYiGPeN3zWmRC-TawLrjBiCyBFswAGDbdw3v9l9pFTqskLMuXKe7uLNe8tUot8IKpnxTR6AKF_X1zWNKGJdd5NWlD-dp44W6WucsvlQ3eupbJpjkaN/file [following]\n",
            "--2021-01-30 02:44:36--  https://uc33505c62f24cf6c923f04d881c.dl.dropboxusercontent.com/cd/0/inline2/BH_pvkWbkrJdkS8ltLnkrUPVcWuGDJR_2r86Y5KHhAuSF-lpp34zf04g1-kt05NZBcReKigC8nd2h8sbprkusGMA65_slXsRbkXeu1dYjJDdBv4s8VeYodRl2fheU6_JEQ2GQ8HafGVFEY631tCBZzMlOgnvnTJvlFh3_XlbKboLdoGtNlV2iclIUiC47LTXIp9dLiDOfkmjBMpvQEiZzv-4jg2CHR00g5lnn3UYiGPeN3zWmRC-TawLrjBiCyBFswAGDbdw3v9l9pFTqskLMuXKe7uLNe8tUot8IKpnxTR6AKF_X1zWNKGJdd5NWlD-dp44W6WucsvlQ3eupbJpjkaN/file\n",
            "Reusing existing connection to uc33505c62f24cf6c923f04d881c.dl.dropboxusercontent.com:443.\n",
            "HTTP request sent, awaiting response... 200 OK\n",
            "Length: 550880921 (525M) [application/rar]\n",
            "Saving to: ‘/content/Persian-text-to-speech/logs/logs.rar’\n",
            "\n",
            "/content/Persian-te 100%[===================>] 525.36M  20.1MB/s    in 30s     \n",
            "\n",
            "2021-01-30 02:45:06 (17.7 MB/s) - ‘/content/Persian-text-to-speech/logs/logs.rar’ saved [550880921/550880921]\n",
            "\n",
            "Reading package lists... Done\n",
            "Building dependency tree       \n",
            "Reading state information... Done\n",
            "unrar is already the newest version (1:5.5.8-1).\n",
            "0 upgraded, 0 newly installed, 0 to remove and 13 not upgraded.\n",
            "\n",
            "UNRAR 5.50 freeware      Copyright (c) 1993-2017 Alexander Roshal\n",
            "\n",
            "\n",
            "Extracting from /content/Persian-text-to-speech/logs/logs.rar\n",
            "\n",
            "Extracting  checkpoint                                                   \b\b\b\b  0%\b\b\b\b\b  OK \n",
            "Extracting  model_gs_141k.data-00000-of-00001                            \b\b\b\b  0%\b\b\b\b  1%\b\b\b\b  2%\b\b\b\b  3%\b\b\b\b  4%\b\b\b\b  5%\b\b\b\b  6%\b\b\b\b  7%\b\b\b\b  8%\b\b\b\b  9%\b\b\b\b 10%\b\b\b\b 11%\b\b\b\b 12%\b\b\b\b 13%\b\b\b\b 14%\b\b\b\b 15%\b\b\b\b 16%\b\b\b\b 17%\b\b\b\b 18%\b\b\b\b 19%\b\b\b\b 20%\b\b\b\b 21%\b\b\b\b 22%\b\b\b\b 23%\b\b\b\b 24%\b\b\b\b 25%\b\b\b\b 26%\b\b\b\b 27%\b\b\b\b 28%\b\b\b\b 29%\b\b\b\b 30%\b\b\b\b 31%\b\b\b\b 32%\b\b\b\b 33%\b\b\b\b 34%\b\b\b\b 35%\b\b\b\b 36%\b\b\b\b 37%\b\b\b\b 38%\b\b\b\b 39%\b\b\b\b 40%\b\b\b\b 41%\b\b\b\b 42%\b\b\b\b 43%\b\b\b\b 44%\b\b\b\b 45%\b\b\b\b 46%\b\b\b\b 47%\b\b\b\b 48%\b\b\b\b 49%\b\b\b\b 50%\b\b\b\b 51%\b\b\b\b\b  OK \n",
            "Extracting  model_gs_141k.index                                          \b\b\b\b 51%\b\b\b\b\b  OK \n",
            "Extracting  model_gs_141k.meta                                           \b\b\b\b 51%\b\b\b\b\b  OK \n",
            "\n",
            "Would you like to replace the existing file checkpoint\n",
            "   259 bytes, modified on 2018-07-26 11:56\n",
            "with a new one\n",
            "   259 bytes, modified on 2018-07-26 19:16\n",
            "\n",
            "[Y]es, [N]o, [A]ll, n[E]ver, [R]ename, [Q]uit n\n",
            "\n",
            "Extracting  model_gs_140k.data-00000-of-00001                            \b\b\b\b 51%\b\b\b\b 52%\b\b\b\b 53%\b\b\b\b 54%\b\b\b\b 55%\b\b\b\b 56%\b\b\b\b 57%\b\b\b\b 58%\b\b\b\b 59%\b\b\b\b 60%\b\b\b\b 61%\b\b\b\b 62%\b\b\b\b 63%\b\b\b\b 64%\b\b\b\b 65%\b\b\b\b 66%\b\b\b\b 67%\b\b\b\b 68%\b\b\b\b 69%\b\b\b\b 70%\b\b\b\b 71%\b\b\b\b 72%\b\b\b\b 73%\b\b\b\b 74%\b\b\b\b 75%\b\b\b\b 76%\b\b\b\b 77%\b\b\b\b 78%\b\b\b\b 79%\b\b\b\b 80%\b\b\b\b 81%\b\b\b\b 82%\b\b\b\b 83%\b\b\b\b 84%\b\b\b\b 85%\b\b\b\b 86%\b\b\b\b 87%\b\b\b\b 88%\b\b\b\b 89%\b\b\b\b 90%\b\b\b\b 91%\b\b\b\b 92%\b\b\b\b 93%\b\b\b\b 94%\b\b\b\b 95%\b\b\b\b 96%\b\b\b\b 97%\b\b\b\b 98%\b\b\b\b 99%\b\b\b\b\b  OK \n",
            "Extracting  model_gs_140k.index                                          \b\b\b\b 99%\b\b\b\b\b  OK \n",
            "Extracting  model_gs_140k.meta                                           \b\b\b\b 99%\b\b\b\b\b  OK \n",
            "All OK\n",
            "/content/Persian-text-to-speech\n"
          ],
          "name": "stdout"
        }
      ]
    },
    {
      "cell_type": "code",
      "metadata": {
        "colab": {
          "base_uri": "https://localhost:8080/"
        },
        "id": "N5-nEIUSLR-6",
        "outputId": "d827b24e-3550-4181-d2dc-132a5454b184"
      },
      "source": [
        "%tensorflow_version 1.x\n",
        "import tensorflow as tf\n",
        "import sys\n",
        "sys.path.append('/content/Persian-text-to-speech/network')\n",
        "sys.path.append('/content/Persian-text-to-speech/tools')\n",
        "from SuperResolution import deconv,super_resolution\n",
        "from hp import HP"
      ],
      "execution_count": 1,
      "outputs": [
        {
          "output_type": "stream",
          "text": [
            "TensorFlow 1.x selected.\n"
          ],
          "name": "stdout"
        }
      ]
    },
    {
      "cell_type": "markdown",
      "metadata": {
        "id": "VefdcijtLR_F"
      },
      "source": [
        "Usually, you’ll see transposed convolution layers used to increase the width and height of the layers. They work almost exactly the same as convolutional layers, but in reverse. A stride in the input layer results in a larger stride in the transposed convolution layer. For example, if you have a 3x3 kernel, a 3x3 patch in the input layer will be reduced to one unit in a convolutional layer. Comparatively, one unit in the input layer will be expanded to a 3x3 path in a transposed convolution layer. The TensorFlow API provides us with an easy way to create the layers, tf.nn.conv2d_transpose."
      ]
    },
    {
      "cell_type": "code",
      "metadata": {
        "id": "kn18lEhBLR_G"
      },
      "source": [
        "test_mel=tf.get_variable(name='mel',shape=(4, 20, 80),dtype=tf.float32,initializer=tf.truncated_normal_initializer())\n",
        "\n"
      ],
      "execution_count": 2,
      "outputs": []
    },
    {
      "cell_type": "code",
      "metadata": {
        "colab": {
          "base_uri": "https://localhost:8080/"
        },
        "id": "WZmQz94NLR_H",
        "outputId": "e95547bd-9d74-4826-9107-02024b71f89c"
      },
      "source": [
        "test_mel"
      ],
      "execution_count": 3,
      "outputs": [
        {
          "output_type": "execute_result",
          "data": {
            "text/plain": [
              "<tf.Variable 'mel:0' shape=(4, 20, 80) dtype=float32_ref>"
            ]
          },
          "metadata": {
            "tags": []
          },
          "execution_count": 3
        }
      ]
    },
    {
      "cell_type": "code",
      "metadata": {
        "colab": {
          "base_uri": "https://localhost:8080/"
        },
        "id": "9FSCjNL8LR_I",
        "outputId": "a66c2ab1-338f-48a8-c691-250a4634f92a"
      },
      "source": [
        "result=deconv(input_tensor=test_mel,filters=HP.c,kernel_size=3,strides=2,padding='SAME'\n",
        "       ,activation=None,dropout_rate=HP.dropout_rate)"
      ],
      "execution_count": 5,
      "outputs": [
        {
          "output_type": "stream",
          "text": [
            "WARNING:tensorflow:From /content/Persian-text-to-speech/network/layers.py:97: conv2d_transpose (from tensorflow.python.layers.convolutional) is deprecated and will be removed in a future version.\n",
            "Instructions for updating:\n",
            "Use `tf.keras.layers.Conv2DTranspose` instead.\n",
            "WARNING:tensorflow:From /tensorflow-1.15.2/python3.6/tensorflow_core/python/layers/convolutional.py:1279: Layer.apply (from tensorflow.python.keras.engine.base_layer) is deprecated and will be removed in a future version.\n",
            "Instructions for updating:\n",
            "Please use `layer.__call__` method instead.\n"
          ],
          "name": "stdout"
        }
      ]
    },
    {
      "cell_type": "code",
      "metadata": {
        "colab": {
          "base_uri": "https://localhost:8080/",
          "height": 180
        },
        "id": "bHJ6LKawLR_J",
        "outputId": "2caaf6ac-45a7-40b7-f666-a83cc9652063"
      },
      "source": [
        "result=deconv(input_tensor=result,filters=HP.c,kernel_size=3,strides=2,padding='SAME'\n",
        "       ,activation=None,dropout_rate=HP.dropout_rate,scope_name='TESTDeconv1')"
      ],
      "execution_count": 10,
      "outputs": [
        {
          "output_type": "error",
          "ename": "NameError",
          "evalue": "ignored",
          "traceback": [
            "\u001b[0;31m---------------------------------------------------------------------------\u001b[0m",
            "\u001b[0;31mNameError\u001b[0m                                 Traceback (most recent call last)",
            "\u001b[0;32m<ipython-input-10-f0f43d323dfd>\u001b[0m in \u001b[0;36m<module>\u001b[0;34m()\u001b[0m\n\u001b[0;32m----> 1\u001b[0;31m result=deconv(input_tensor=result,filters=HP.c,kernel_size=3,strides=2,padding='SAME'\n\u001b[0m\u001b[1;32m      2\u001b[0m        ,activation=None,dropout_rate=HP.dropout_rate,scope_name='TESTDeconv1')\n",
            "\u001b[0;31mNameError\u001b[0m: name 'result' is not defined"
          ]
        }
      ]
    },
    {
      "cell_type": "code",
      "metadata": {
        "colab": {
          "base_uri": "https://localhost:8080/"
        },
        "id": "tUOB-K90LR_J",
        "outputId": "3a8c78e0-4649-430e-cce0-40197d28e1fb"
      },
      "source": [
        "result"
      ],
      "execution_count": 8,
      "outputs": [
        {
          "output_type": "execute_result",
          "data": {
            "text/plain": [
              "<tf.Tensor 'Squeeze:0' shape=(4, 40, 512) dtype=float32>"
            ]
          },
          "metadata": {
            "tags": []
          },
          "execution_count": 8
        }
      ]
    },
    {
      "cell_type": "code",
      "metadata": {
        "colab": {
          "base_uri": "https://localhost:8080/"
        },
        "id": "iK1U5vzALR_K",
        "outputId": "8289b713-aea5-4034-93c4-4e1b764b3ac9"
      },
      "source": [
        "Z,logits=super_resolution(test_mel,HP.dropout_rate,HP.c,HP.n_fft)"
      ],
      "execution_count": 9,
      "outputs": [
        {
          "output_type": "stream",
          "text": [
            "WARNING:tensorflow:From /content/Persian-text-to-speech/network/layers.py:41: conv1d (from tensorflow.python.layers.convolutional) is deprecated and will be removed in a future version.\n",
            "Instructions for updating:\n",
            "Use `tf.keras.layers.Conv1D` instead.\n",
            "WARNING:tensorflow:From /content/Persian-text-to-speech/network/layers.py:52: The name tf.variable_scope is deprecated. Please use tf.compat.v1.variable_scope instead.\n",
            "\n"
          ],
          "name": "stdout"
        }
      ]
    },
    {
      "cell_type": "code",
      "metadata": {
        "colab": {
          "base_uri": "https://localhost:8080/"
        },
        "id": "JpaXVOx-LR_K",
        "outputId": "d522493d-a9ef-4e8b-cefe-724f57ba53c3"
      },
      "source": [
        "Z"
      ],
      "execution_count": 10,
      "outputs": [
        {
          "output_type": "execute_result",
          "data": {
            "text/plain": [
              "<tf.Tensor 'conv1d_5/BiasAdd:0' shape=(4, 80, 513) dtype=float32>"
            ]
          },
          "metadata": {
            "tags": []
          },
          "execution_count": 10
        }
      ]
    },
    {
      "cell_type": "code",
      "metadata": {
        "id": "APGh0UUkLR_L"
      },
      "source": [
        ""
      ],
      "execution_count": null,
      "outputs": []
    }
  ]
}